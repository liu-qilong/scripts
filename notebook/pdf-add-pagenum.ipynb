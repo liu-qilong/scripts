{
 "cells": [
  {
   "cell_type": "code",
   "execution_count": 71,
   "metadata": {},
   "outputs": [],
   "source": [
    "from reportlab.lib import colors\n",
    "\n",
    "input_pdf = \"input/combined.pdf\"\n",
    "output_pdf = \"output/numbered.pdf\"\n",
    "page_number_color=colors.darkred\n",
    "background_color=colors.Color(255, 255, 255, alpha=0.5)"
   ]
  },
  {
   "cell_type": "code",
   "execution_count": 72,
   "metadata": {},
   "outputs": [],
   "source": [
    "from PyPDF2 import PdfWriter, PdfReader\n",
    "from reportlab.pdfgen import canvas\n",
    "from reportlab.lib.pagesizes import letter\n",
    "\n",
    "import io\n",
    "\n",
    "input_pdf_reader = PdfReader(open(input_pdf, \"rb\"))\n",
    "output_pdf_writer = PdfWriter()\n",
    "total_pages = len(input_pdf_reader.pages)\n",
    "\n",
    "# get the dimensions of the first page\n",
    "# and calculate font size based its size\n",
    "page = input_pdf_reader.pages[0]\n",
    "page_width = page.mediabox.width\n",
    "font_size = float(page_width) * 0.025  # 2% of the smaller dimension\n",
    "text_height = font_size\n",
    "\n",
    "for page_num in range(total_pages):\n",
    "    packet = io.BytesIO()\n",
    "    can = canvas.Canvas(packet, pagesize=letter)\n",
    "\n",
    "    # calculate text width\n",
    "    page_num_str = f'{page_num + 1}/{total_pages}'\n",
    "    text_width = can.stringWidth(page_num_str, \"Courier\", font_size)\n",
    "    \n",
    "    # add rectangle background\n",
    "    can.setFillColor(background_color)\n",
    "    can.rect(10 - 2, 10 - 2, text_width + 4, text_height, fill=1, stroke=0)\n",
    "\n",
    "    # add page number\n",
    "    can.setFillColor(page_number_color)  # set the color of the page number\n",
    "    can.setFont(\"Courier\", font_size)  # Set the font size\n",
    "    can.drawString(10, 10, page_num_str)  # position the page number\n",
    "    can.save()\n",
    "\n",
    "    # move to the beginning of the StringIO buffer\n",
    "    packet.seek(0)\n",
    "    page_number_pdf = PdfReader(packet)\n",
    "\n",
    "    # merge the page number pdf with the input pdf page\n",
    "    page = input_pdf_reader.pages[page_num]\n",
    "    page.merge_page(page_number_pdf.pages[0])\n",
    "    output_pdf_writer.add_page(page)\n",
    "\n",
    "with open(output_pdf, \"wb\") as output_file:\n",
    "    output_pdf_writer.write(output_file)"
   ]
  },
  {
   "cell_type": "code",
   "execution_count": null,
   "metadata": {},
   "outputs": [],
   "source": []
  }
 ],
 "metadata": {
  "kernelspec": {
   "display_name": "base",
   "language": "python",
   "name": "python3"
  },
  "language_info": {
   "codemirror_mode": {
    "name": "ipython",
    "version": 3
   },
   "file_extension": ".py",
   "mimetype": "text/x-python",
   "name": "python",
   "nbconvert_exporter": "python",
   "pygments_lexer": "ipython3",
   "version": "3.9.13"
  }
 },
 "nbformat": 4,
 "nbformat_minor": 2
}
