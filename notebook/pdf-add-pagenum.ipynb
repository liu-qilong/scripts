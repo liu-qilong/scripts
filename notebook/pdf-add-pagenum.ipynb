{
 "cells": [
  {
   "cell_type": "code",
   "execution_count": 6,
   "metadata": {},
   "outputs": [],
   "source": [
    "from PyPDF2 import PdfWriter, PdfReader\n",
    "from reportlab.pdfgen import canvas\n",
    "from reportlab.lib.pagesizes import letter\n",
    "from reportlab.lib import colors\n",
    "import io\n",
    "\n",
    "def add_page_numbers(input_pdf, output_pdf, page_number_color=colors.black):\n",
    "    input_pdf_reader = PdfReader(open(input_pdf, \"rb\"))\n",
    "    output_pdf_writer = PdfWriter()\n",
    "    total_pages = len(input_pdf_reader.pages)\n",
    "\n",
    "    for page_num in range(total_pages):\n",
    "        # get the dimensions of the current page\n",
    "        # and calculate font size based on page dimensions\n",
    "        page = input_pdf_reader.pages[page_num]\n",
    "        page_width = page.mediabox.width\n",
    "        page_height = page.mediabox.height\n",
    "        font_size = float(min(page_width, page_height)) * 0.02  # 2% of the smaller dimension\n",
    "\n",
    "        # create a PDF with the page number\n",
    "        packet = io.BytesIO()\n",
    "        can = canvas.Canvas(packet, pagesize=letter)\n",
    "        can.setFillColor(page_number_color)  # set the color of the page number\n",
    "        can.setFont(\"Courier\", font_size)  # Set the font size\n",
    "        can.drawString(10, 10, f'{page_num + 1}/{total_pages}')  # position the page number\n",
    "        can.save()\n",
    "\n",
    "        # move to the beginning of the StringIO buffer\n",
    "        packet.seek(0)\n",
    "        page_number_pdf = PdfReader(packet)\n",
    "\n",
    "        # merge the page number pdf with the input pdf page\n",
    "        page = input_pdf_reader.pages[page_num]\n",
    "        page.merge_page(page_number_pdf.pages[0])\n",
    "        output_pdf_writer.add_page(page)\n",
    "\n",
    "    with open(output_pdf, \"wb\") as output_file:\n",
    "        output_pdf_writer.write(output_file)\n",
    "\n",
    "input_pdf = \"input/combined.pdf\"\n",
    "output_pdf = \"output/numbered.pdf\"\n",
    "add_page_numbers(input_pdf, output_pdf, page_number_color=colors.blueviolet)"
   ]
  },
  {
   "cell_type": "code",
   "execution_count": null,
   "metadata": {},
   "outputs": [],
   "source": []
  }
 ],
 "metadata": {
  "kernelspec": {
   "display_name": "base",
   "language": "python",
   "name": "python3"
  },
  "language_info": {
   "codemirror_mode": {
    "name": "ipython",
    "version": 3
   },
   "file_extension": ".py",
   "mimetype": "text/x-python",
   "name": "python",
   "nbconvert_exporter": "python",
   "pygments_lexer": "ipython3",
   "version": "3.9.13"
  }
 },
 "nbformat": 4,
 "nbformat_minor": 2
}
