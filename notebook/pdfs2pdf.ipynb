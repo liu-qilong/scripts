{
 "cells": [
  {
   "cell_type": "code",
   "execution_count": 23,
   "metadata": {},
   "outputs": [],
   "source": [
    "# pdf_folder = '../input/'\n",
    "pdf_folder = \"/Users/knpob/Downloads/Beancount User's Manual\""
   ]
  },
  {
   "cell_type": "code",
   "execution_count": 7,
   "metadata": {},
   "outputs": [],
   "source": [
    "def push_toc_tree(tree, keys, merger):\n",
    "    for key in keys:\n",
    "        if key == '':\n",
    "            continue\n",
    "\n",
    "        if key not in tree:\n",
    "            tree[key] = {}\n",
    "            tree[key]['toc_item'] = merger.add_outline_item(\n",
    "                title=key,\n",
    "                page_number=len(merger.pages),\n",
    "                parent=tree['toc_item']\n",
    "                )\n",
    "\n",
    "        tree = tree[key]"
   ]
  },
  {
   "cell_type": "code",
   "execution_count": 8,
   "metadata": {},
   "outputs": [],
   "source": [
    "def get_toc_tree(tree, keys):\n",
    "    for key in keys:\n",
    "        if key == '':\n",
    "            continue\n",
    "\n",
    "        if key not in tree:\n",
    "            return None\n",
    "\n",
    "        tree = tree[key]\n",
    "    \n",
    "    return tree['toc_item']"
   ]
  },
  {
   "cell_type": "code",
   "execution_count": 26,
   "metadata": {},
   "outputs": [
    {
     "data": {
      "text/plain": [
       "[{'path': \"/Users/knpob/Downloads/Beancount User's Manual/2 Cookbook & Examples/1 Command-line Accounting Cookbook.pdf\",\n",
       "  'keys': ['', '2 Cookbook & Examples'],\n",
       "  'title': '1 Command-line Accounting Cookbook'},\n",
       " {'path': \"/Users/knpob/Downloads/Beancount User's Manual/2 Cookbook & Examples/2 Trading with Beancount.pdf\",\n",
       "  'keys': ['', '2 Cookbook & Examples'],\n",
       "  'title': '2 Trading with Beancount'},\n",
       " {'path': \"/Users/knpob/Downloads/Beancount User's Manual/2 Cookbook & Examples/3 Stock Vesting in Beancount.pdf\",\n",
       "  'keys': ['', '2 Cookbook & Examples'],\n",
       "  'title': '3 Stock Vesting in Beancount'},\n",
       " {'path': \"/Users/knpob/Downloads/Beancount User's Manual/2 Cookbook & Examples/4 Sharing Expenses in Beancount.pdf\",\n",
       "  'keys': ['', '2 Cookbook & Examples'],\n",
       "  'title': '4 Sharing Expenses in Beancount'},\n",
       " {'path': \"/Users/knpob/Downloads/Beancount User's Manual/2 Cookbook & Examples/5 How We Share Expenses.pdf\",\n",
       "  'keys': ['', '2 Cookbook & Examples'],\n",
       "  'title': '5 How We Share Expenses'},\n",
       " {'path': \"/Users/knpob/Downloads/Beancount User's Manual/2 Cookbook & Examples/6 Health Care Expenses.pdf\",\n",
       "  'keys': ['', '2 Cookbook & Examples'],\n",
       "  'title': '6 Health Care Expenses'},\n",
       " {'path': \"/Users/knpob/Downloads/Beancount User's Manual/2 Cookbook & Examples/7 Tracking Out-of-Network Medical Claims in Beancount.pdf\",\n",
       "  'keys': ['', '2 Cookbook & Examples'],\n",
       "  'title': '7 Tracking Out-of-Network Medical Claims in Beancount'},\n",
       " {'path': \"/Users/knpob/Downloads/Beancount User's Manual/2 Cookbook & Examples/8 Calculating Portfolio Returns.pdf\",\n",
       "  'keys': ['', '2 Cookbook & Examples'],\n",
       "  'title': '8 Calculating Portfolio Returns'},\n",
       " {'path': \"/Users/knpob/Downloads/Beancount User's Manual/11 Documentation for Users/1 Command-line Accounting in Context.pdf\",\n",
       "  'keys': ['', '11 Documentation for Users'],\n",
       "  'title': '1 Command-line Accounting in Context'},\n",
       " {'path': \"/Users/knpob/Downloads/Beancount User's Manual/11 Documentation for Users/2 The Double-Entry Counting Method.pdf\",\n",
       "  'keys': ['', '11 Documentation for Users'],\n",
       "  'title': '2 The Double-Entry Counting Method'},\n",
       " {'path': \"/Users/knpob/Downloads/Beancount User's Manual/11 Documentation for Users/3 Installing Beancount.pdf\",\n",
       "  'keys': ['', '11 Documentation for Users'],\n",
       "  'title': '3 Installing Beancount'},\n",
       " {'path': \"/Users/knpob/Downloads/Beancount User's Manual/11 Documentation for Users/4 Running Beancount & Generating Reports.pdf\",\n",
       "  'keys': ['', '11 Documentation for Users'],\n",
       "  'title': '4 Running Beancount & Generating Reports'},\n",
       " {'path': \"/Users/knpob/Downloads/Beancount User's Manual/11 Documentation for Users/5 Getting Started with Beancount.pdf\",\n",
       "  'keys': ['', '11 Documentation for Users'],\n",
       "  'title': '5 Getting Started with Beancount'},\n",
       " {'path': \"/Users/knpob/Downloads/Beancount User's Manual/11 Documentation for Users/6 Beancount Language Syntax.pdf\",\n",
       "  'keys': ['', '11 Documentation for Users'],\n",
       "  'title': '6 Beancount Language Syntax'},\n",
       " {'path': \"/Users/knpob/Downloads/Beancount User's Manual/11 Documentation for Users/7 Beancount Precision & Tolerances.pdf\",\n",
       "  'keys': ['', '11 Documentation for Users'],\n",
       "  'title': '7 Beancount Precision & Tolerances'},\n",
       " {'path': \"/Users/knpob/Downloads/Beancount User's Manual/11 Documentation for Users/8 Beancount Query Language.pdf\",\n",
       "  'keys': ['', '11 Documentation for Users'],\n",
       "  'title': '8 Beancount Query Language'},\n",
       " {'path': \"/Users/knpob/Downloads/Beancount User's Manual/11 Documentation for Users/9 Beancount Syntax Cheat Sheet.pdf\",\n",
       "  'keys': ['', '11 Documentation for Users'],\n",
       "  'title': '9 Beancount Syntax Cheat Sheet'},\n",
       " {'path': \"/Users/knpob/Downloads/Beancount User's Manual/11 Documentation for Users/10 How Inventories Work.pdf\",\n",
       "  'keys': ['', '11 Documentation for Users'],\n",
       "  'title': '10 How Inventories Work'},\n",
       " {'path': \"/Users/knpob/Downloads/Beancount User's Manual/11 Documentation for Users/11 Exporting your Portfolio.pdf\",\n",
       "  'keys': ['', '11 Documentation for Users'],\n",
       "  'title': '11 Exporting your Portfolio'},\n",
       " {'path': \"/Users/knpob/Downloads/Beancount User's Manual/11 Documentation for Users/12 A Comparison of Beancount and Ledger.pdf\",\n",
       "  'keys': ['', '11 Documentation for Users'],\n",
       "  'title': '12 A Comparison of Beancount and Ledger'},\n",
       " {'path': \"/Users/knpob/Downloads/Beancount User's Manual/11 Documentation for Users/13 Prices in Beancount.pdf\",\n",
       "  'keys': ['', '11 Documentation for Users'],\n",
       "  'title': '13 Prices in Beancount'},\n",
       " {'path': \"/Users/knpob/Downloads/Beancount User's Manual/11 Documentation for Users/14 Importing External Data in Beancount.pdf\",\n",
       "  'keys': ['', '11 Documentation for Users'],\n",
       "  'title': '14 Importing External Data in Beancount'}]"
      ]
     },
     "execution_count": 26,
     "metadata": {},
     "output_type": "execute_result"
    }
   ],
   "source": [
    "import os\n",
    "from natsort import natsorted\n",
    "\n",
    "pdf_ls = []\n",
    "\n",
    "for root, _, files in natsorted(os.walk(pdf_folder)):\n",
    "    files = natsorted(files)\n",
    "    for file in files:\n",
    "        if file.endswith('.pdf'):\n",
    "            path = os.path.join(root, file)\n",
    "            keys = path.replace(pdf_folder, '').replace('.pdf', '').split(os.sep)\n",
    "            pdf_ls.append({\n",
    "                'path': path,\n",
    "                'keys': keys[:-1],\n",
    "                'title': keys[-1],\n",
    "                })\n",
    "\n",
    "pdf_ls"
   ]
  },
  {
   "cell_type": "code",
   "execution_count": 141,
   "metadata": {},
   "outputs": [
    {
     "name": "stdout",
     "output_type": "stream",
     "text": [
      "{'path': '../temp/Let’s Verify Step by Step.pdf', 'keys': [], 'title': 'Let’s Verify Step by Step'}\n",
      "{'path': '../temp/test-1/Hidden Technical Debt in Machine Learning Systems.pdf', 'keys': ['test-1'], 'title': 'Hidden Technical Debt in Machine Learning Systems'}\n",
      "{'path': '../temp/test-1/test/Auto-Encoding Variational Bayes.pdf', 'keys': ['test-1', 'test'], 'title': 'Auto-Encoding Variational Bayes'}\n",
      "{'path': '../temp/test-2/Self-supervised Co-training for Video Representation Learning.pdf', 'keys': ['test-2'], 'title': 'Self-supervised Co-training for Video Representation Learning'}\n"
     ]
    }
   ],
   "source": [
    "from PyPDF2 import PdfMerger\n",
    "\n",
    "merger = PdfMerger()\n",
    "toc_tree = {'toc_item': None}\n",
    "\n",
    "for pdf in pdf_ls:\n",
    "    print(pdf)\n",
    "    push_toc_tree(toc_tree, pdf['keys'], merger)\n",
    "    merger.add_outline_item(\n",
    "        title=pdf['title'],\n",
    "        page_number=len(merger.pages),\n",
    "        parent=get_toc_tree(toc_tree, pdf['keys']),\n",
    "        )\n",
    "    merger.append(pdf['path'], import_outline=False)\n",
    "\n",
    "    \n",
    "with open('output/combined.pdf', 'wb') as f_out:\n",
    "    merger.write(f_out)"
   ]
  },
  {
   "cell_type": "code",
   "execution_count": null,
   "metadata": {},
   "outputs": [],
   "source": []
  }
 ],
 "metadata": {
  "kernelspec": {
   "display_name": "base",
   "language": "python",
   "name": "python3"
  },
  "language_info": {
   "codemirror_mode": {
    "name": "ipython",
    "version": 3
   },
   "file_extension": ".py",
   "mimetype": "text/x-python",
   "name": "python",
   "nbconvert_exporter": "python",
   "pygments_lexer": "ipython3",
   "version": "3.9.13"
  }
 },
 "nbformat": 4,
 "nbformat_minor": 2
}
