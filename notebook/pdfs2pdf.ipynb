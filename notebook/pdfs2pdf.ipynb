{
 "cells": [
  {
   "cell_type": "code",
   "execution_count": 137,
   "metadata": {},
   "outputs": [],
   "source": [
    "directory = '../temp/'"
   ]
  },
  {
   "cell_type": "code",
   "execution_count": 138,
   "metadata": {},
   "outputs": [],
   "source": [
    "def push_toc_tree(tree, keys, merger):\n",
    "    for key in keys:\n",
    "        if key == '':\n",
    "            continue\n",
    "\n",
    "        if key not in tree:\n",
    "            tree[key] = {}\n",
    "            tree[key]['toc_item'] = merger.add_outline_item(\n",
    "                title=key,\n",
    "                page_number=len(merger.pages),\n",
    "                parent=tree['toc_item']\n",
    "                )\n",
    "\n",
    "        tree = tree[key]"
   ]
  },
  {
   "cell_type": "code",
   "execution_count": 139,
   "metadata": {},
   "outputs": [],
   "source": [
    "def get_toc_tree(tree, keys):\n",
    "    for key in keys:\n",
    "        if key == '':\n",
    "            continue\n",
    "\n",
    "        if key not in tree:\n",
    "            return None\n",
    "\n",
    "        tree = tree[key]\n",
    "    \n",
    "    return tree['toc_item']"
   ]
  },
  {
   "cell_type": "code",
   "execution_count": 140,
   "metadata": {},
   "outputs": [
    {
     "data": {
      "text/plain": [
       "[{'path': '../temp/Let’s Verify Step by Step.pdf',\n",
       "  'keys': [],\n",
       "  'title': 'Let’s Verify Step by Step'},\n",
       " {'path': '../temp/test-1/Hidden Technical Debt in Machine Learning Systems.pdf',\n",
       "  'keys': ['test-1'],\n",
       "  'title': 'Hidden Technical Debt in Machine Learning Systems'},\n",
       " {'path': '../temp/test-1/test/Auto-Encoding Variational Bayes.pdf',\n",
       "  'keys': ['test-1', 'test'],\n",
       "  'title': 'Auto-Encoding Variational Bayes'},\n",
       " {'path': '../temp/test-2/Self-supervised Co-training for Video Representation Learning.pdf',\n",
       "  'keys': ['test-2'],\n",
       "  'title': 'Self-supervised Co-training for Video Representation Learning'}]"
      ]
     },
     "execution_count": 140,
     "metadata": {},
     "output_type": "execute_result"
    }
   ],
   "source": [
    "pdf_ls = []\n",
    "\n",
    "for root, _, files in os.walk(directory):\n",
    "    for file in files:\n",
    "        if file.endswith('.pdf'):\n",
    "            path = os.path.join(root, file)\n",
    "            keys = path.replace(directory, '').replace('.pdf', '').split(os.sep)\n",
    "            pdf_ls.append({\n",
    "                'path': path,\n",
    "                'keys': keys[:-1],\n",
    "                'title': keys[-1],\n",
    "                })\n",
    "\n",
    "pdf_ls"
   ]
  },
  {
   "cell_type": "code",
   "execution_count": 141,
   "metadata": {},
   "outputs": [
    {
     "name": "stdout",
     "output_type": "stream",
     "text": [
      "{'path': '../temp/Let’s Verify Step by Step.pdf', 'keys': [], 'title': 'Let’s Verify Step by Step'}\n",
      "{'path': '../temp/test-1/Hidden Technical Debt in Machine Learning Systems.pdf', 'keys': ['test-1'], 'title': 'Hidden Technical Debt in Machine Learning Systems'}\n",
      "{'path': '../temp/test-1/test/Auto-Encoding Variational Bayes.pdf', 'keys': ['test-1', 'test'], 'title': 'Auto-Encoding Variational Bayes'}\n",
      "{'path': '../temp/test-2/Self-supervised Co-training for Video Representation Learning.pdf', 'keys': ['test-2'], 'title': 'Self-supervised Co-training for Video Representation Learning'}\n"
     ]
    }
   ],
   "source": [
    "from PyPDF2 import PdfMerger\n",
    "\n",
    "merger = PdfMerger()\n",
    "toc_tree = {'toc_item': None}\n",
    "\n",
    "for pdf in pdf_ls:\n",
    "    print(pdf)\n",
    "    push_toc_tree(toc_tree, pdf['keys'], merger)\n",
    "    merger.add_outline_item(\n",
    "        title=pdf['title'],\n",
    "        page_number=len(merger.pages),\n",
    "        parent=get_toc_tree(toc_tree, pdf['keys']),\n",
    "        )\n",
    "    merger.append(pdf['path'], import_outline=False)\n",
    "\n",
    "    \n",
    "with open('output/combined.pdf', 'wb') as f_out:\n",
    "    merger.write(f_out)"
   ]
  },
  {
   "cell_type": "code",
   "execution_count": null,
   "metadata": {},
   "outputs": [],
   "source": []
  }
 ],
 "metadata": {
  "kernelspec": {
   "display_name": "base",
   "language": "python",
   "name": "python3"
  },
  "language_info": {
   "codemirror_mode": {
    "name": "ipython",
    "version": 3
   },
   "file_extension": ".py",
   "mimetype": "text/x-python",
   "name": "python",
   "nbconvert_exporter": "python",
   "pygments_lexer": "ipython3",
   "version": "3.9.13"
  }
 },
 "nbformat": 4,
 "nbformat_minor": 2
}
