{
 "cells": [
  {
   "cell_type": "code",
   "execution_count": 11,
   "metadata": {},
   "outputs": [
    {
     "name": "stdout",
     "output_type": "stream",
     "text": [
      "append input/1-测试.jpeg\n",
      "append input/2-测试.jpeg\n",
      "append input/11-测试.jpeg\n",
      "-> output/file.pdf\n"
     ]
    }
   ],
   "source": [
    "from PIL import Image\n",
    "import os\n",
    "from natsort import natsorted\n",
    "\n",
    "input_folder = \"input/\"\n",
    "output_path = \"output/file.pdf\"\n",
    "\n",
    "# get all image files in the input folder\n",
    "image_files = [f for f in os.listdir(input_folder) if f.endswith(('.png', '.jpg', '.jpeg'))]\n",
    "image_files = natsorted(image_files)\n",
    "\n",
    "# open each image and append to a list\n",
    "images = []\n",
    "\n",
    "for idx, file in enumerate(image_files):\n",
    "    img_path = os.path.join(input_folder, file)\n",
    "\n",
    "    with Image.open(img_path) as img:\n",
    "        if img.mode == 'RGBA':\n",
    "            img = img.convert('RGB')\n",
    "        \n",
    "        images.append(img.copy())\n",
    "        print(f\"append {img_path}\")\n",
    "\n",
    "# save the list of images as a pdf\n",
    "if images:\n",
    "    images[0].save(output_path, save_all=True, append_images=images[1:])\n",
    "    print(f\"-> {output_path}\")\n",
    "\n",
    "    for img in images:\n",
    "        img.close()\n",
    "else:\n",
    "    print(\"No valid .png or .jpg files found in the input folder\")"
   ]
  },
  {
   "cell_type": "code",
   "execution_count": null,
   "metadata": {},
   "outputs": [],
   "source": []
  }
 ],
 "metadata": {
  "kernelspec": {
   "display_name": "base",
   "language": "python",
   "name": "python3"
  },
  "language_info": {
   "codemirror_mode": {
    "name": "ipython",
    "version": 3
   },
   "file_extension": ".py",
   "mimetype": "text/x-python",
   "name": "python",
   "nbconvert_exporter": "python",
   "pygments_lexer": "ipython3",
   "version": "3.9.13"
  }
 },
 "nbformat": 4,
 "nbformat_minor": 2
}
